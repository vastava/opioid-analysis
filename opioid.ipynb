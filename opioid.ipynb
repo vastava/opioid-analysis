{
 "cells": [
  {
   "cell_type": "code",
   "execution_count": 2,
   "metadata": {},
   "outputs": [],
   "source": [
    "import numpy as np\n",
    "import pandas as pd\n",
    "import math\n",
    "import matplotlib.pyplot as plt\n",
    "\n",
    "names = ['location', '1999', '2000','2001', '2002','2003','2004', '2005','2006', '2007','2008','2009', '2010', '2011','2012','2013', '2014','2015', '2016','party','code' ]\n",
    "df = pd.read_csv('raw_data.csv',names=names,header=0,usecols=[0,1,2,3,4,5,6,7,8,9,10,11,12,13,14,15,16,17,18,19,20])"
   ]
  },
  {
   "cell_type": "code",
   "execution_count": 3,
   "metadata": {},
   "outputs": [],
   "source": [
    "import plotly.plotly as py\n",
    "import plotly.graph_objs as go\n",
    "import plotly"
   ]
  },
  {
   "cell_type": "code",
   "execution_count": 4,
   "metadata": {},
   "outputs": [],
   "source": [
    "plotly.tools.set_credentials_file(username='shrivastavaa', api_key='SWbR8ocKavC28hmTOMG7')"
   ]
  },
  {
   "cell_type": "code",
   "execution_count": 36,
   "metadata": {},
   "outputs": [],
   "source": [
    "repubs = df[df.party == 'Republicans']\n",
    "dems = df[df.party == 'Democrats']"
   ]
  },
  {
   "cell_type": "code",
   "execution_count": 37,
   "metadata": {},
   "outputs": [
    {
     "name": "stdout",
     "output_type": "stream",
     "text": [
      "['13.3%', '7.5%', '12.5%', '11.4%', '5.9%', '14.4%', '8.8%', '7.4%', '12.6%', '6.2%', '5.1%', '23.6%', '7.7%', '18.5%', '7.4%', '15.9%', '4.2%', '2.4%', '15.4%', '7.6%', '32.9%', '11.6%', '18.5%', '13.1%', '5.0%', '18.1%', '4.9%', '16.4%', '43.4%', '15.8%', '8.7%']\n",
      "['4.9%', '9.5%', '24.5%', '16.9%', '30.0%', '5.2%', '15.3%', '25.2%', '29.7%', '29.7%', '6.2%', '13.3%', '35.8%', '16.0%', '17.5%', '15.1%', '7.6%', '26.7%', '18.4%', '13.5%', '9.4%']\n"
     ]
    }
   ],
   "source": [
    "republicanstext = []\n",
    "\n",
    "for item in repubs['2016']:\n",
    "    republicanstext.append(item)\n",
    "\n",
    "republicanstext = [str(item) + '%' for item in republicanstext]\n",
    "print(republicanstext)\n",
    "\n",
    "demtext = []\n",
    "\n",
    "for item in dems['2016']:\n",
    "    demtext.append(item)\n",
    "\n",
    "demtext = [str(item) + '%' for item in demtext]\n",
    "print(demtext)"
   ]
  },
  {
   "cell_type": "code",
   "execution_count": null,
   "metadata": {},
   "outputs": [],
   "source": [
    "scl = [[0.0, 'rgb(247,216,216)'],[0.2, 'rgb(247,177,177)'],[0.4, 'rgb(247,137,137)'],\\\n",
    "            [0.6, 'rgb(247,95,95)'],[0.8, 'rgb(247,65,65)'],[1.0, 'rgb(247,5,5)']]\n",
    "\n",
    "bluescl = [[0.0, 'rgb(216,236,247)'],[0.2, 'rgb(177,197,247)'],[0.4, 'rgb(137,157,247)'],\\\n",
    "            [0.6, 'rgb(95,115,247)'],[0.8, 'rgb(65,85,247)'],[1.0, 'rgb(5,25,247)']]\n",
    "\n",
    "Republicans = [ dict(\n",
    "        type='choropleth',\n",
    "        colorscale = scl,\n",
    "        autocolorscale = False,\n",
    "        locations = repubs['code'],\n",
    "        z = repubs['2016'].astype(float),\n",
    "        locationmode = 'USA-states',\n",
    "        text = republicanstext,\n",
    "        marker = dict(\n",
    "            line = dict (\n",
    "                color = 'rgb(255,255,255)',\n",
    "                width = 2\n",
    "            ) ),\n",
    "        colorbar = dict(\n",
    "            title = \"Opioid Overdose Death Rate\")\n",
    "        ) ]\n",
    "\n",
    "Democrats = [ dict(\n",
    "        type='choropleth',\n",
    "        colorscale = bluescl,\n",
    "        autocolorscale = False,\n",
    "        locations = dems['code'],\n",
    "        z = dems['2016'].astype(float),\n",
    "        locationmode = 'USA-states',\n",
    "        text = demtext,\n",
    "        marker = dict(\n",
    "            line = dict (\n",
    "                color = 'rgb(255,255,255)',\n",
    "                width = 2\n",
    "            ) ),\n",
    "            colorbar = dict(\n",
    "            title = \"Opioid Overdose Death Rate\")\n",
    "        ) ]\n",
    "\n",
    "layout = dict(\n",
    "        title = 'Opioid Overdose Death Rate by State in 2016',\n",
    "        geo = dict(\n",
    "            scope='usa',\n",
    "            projection=dict( type='albers usa' ),\n",
    "            showlakes = False,\n",
    "            lakecolor = 'rgb(255, 255, 255)'),\n",
    "             )\n",
    "\n",
    "data = Republicans + Democrats\n",
    "fig = dict( data=data, layout=layout )\n",
    "py.iplot( fig, filename='d3-cloropleth-map' )"
   ]
  },
  {
   "cell_type": "code",
   "execution_count": 24,
   "metadata": {},
   "outputs": [
    {
     "name": "stdout",
     "output_type": "stream",
     "text": [
      "7.5\n",
      "12.5\n",
      "11.4\n",
      "5.9\n",
      "14.4\n",
      "8.8\n",
      "7.4\n",
      "12.6\n",
      "6.2\n",
      "5.1\n",
      "23.6\n",
      "7.7\n",
      "18.5\n",
      "7.4\n",
      "15.9\n",
      "4.2\n",
      "2.4\n",
      "15.4\n",
      "7.6\n",
      "32.9\n",
      "11.6\n",
      "18.5\n",
      "13.1\n",
      "5.0\n",
      "18.1\n",
      "4.9\n",
      "16.4\n",
      "43.4\n",
      "15.8\n",
      "8.7\n"
     ]
    }
   ],
   "source": [
    "for item in republicans['2016'][1:]:\n",
    "    print(item)"
   ]
  },
  {
   "cell_type": "code",
   "execution_count": null,
   "metadata": {},
   "outputs": [],
   "source": []
  },
  {
   "cell_type": "code",
   "execution_count": null,
   "metadata": {},
   "outputs": [],
   "source": []
  }
 ],
 "metadata": {
  "kernelspec": {
   "display_name": "Python 3",
   "language": "python",
   "name": "python3"
  },
  "language_info": {
   "codemirror_mode": {
    "name": "ipython",
    "version": 3
   },
   "file_extension": ".py",
   "mimetype": "text/x-python",
   "name": "python",
   "nbconvert_exporter": "python",
   "pygments_lexer": "ipython3",
   "version": "3.6.5"
  }
 },
 "nbformat": 4,
 "nbformat_minor": 2
}
